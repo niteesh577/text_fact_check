{
 "cells": [
  {
   "cell_type": "code",
   "execution_count": 1,
   "metadata": {},
   "outputs": [],
   "source": [
    "import pandas as pd"
   ]
  },
  {
   "cell_type": "code",
   "execution_count": 2,
   "metadata": {},
   "outputs": [],
   "source": [
    "df = pd.read_csv(\"climate-fever.csv\")"
   ]
  },
  {
   "cell_type": "code",
   "execution_count": 3,
   "metadata": {},
   "outputs": [
    {
     "data": {
      "text/html": [
       "<div>\n",
       "<style scoped>\n",
       "    .dataframe tbody tr th:only-of-type {\n",
       "        vertical-align: middle;\n",
       "    }\n",
       "\n",
       "    .dataframe tbody tr th {\n",
       "        vertical-align: top;\n",
       "    }\n",
       "\n",
       "    .dataframe thead th {\n",
       "        text-align: right;\n",
       "    }\n",
       "</style>\n",
       "<table border=\"1\" class=\"dataframe\">\n",
       "  <thead>\n",
       "    <tr style=\"text-align: right;\">\n",
       "      <th></th>\n",
       "      <th>claim_id</th>\n",
       "      <th>claim</th>\n",
       "      <th>claim_label</th>\n",
       "      <th>evidences/0/evidence_id</th>\n",
       "      <th>evidences/0/evidence_label</th>\n",
       "      <th>evidences/0/article</th>\n",
       "      <th>evidences/0/evidence</th>\n",
       "      <th>evidences/0/entropy</th>\n",
       "      <th>evidences/0/votes/0</th>\n",
       "      <th>evidences/0/votes/1</th>\n",
       "      <th>...</th>\n",
       "      <th>evidences/4/evidence_id</th>\n",
       "      <th>evidences/4/evidence_label</th>\n",
       "      <th>evidences/4/article</th>\n",
       "      <th>evidences/4/evidence</th>\n",
       "      <th>evidences/4/entropy</th>\n",
       "      <th>evidences/4/votes/0</th>\n",
       "      <th>evidences/4/votes/1</th>\n",
       "      <th>evidences/4/votes/2</th>\n",
       "      <th>evidences/4/votes/3</th>\n",
       "      <th>evidences/4/votes/4</th>\n",
       "    </tr>\n",
       "  </thead>\n",
       "  <tbody>\n",
       "    <tr>\n",
       "      <th>0</th>\n",
       "      <td>0</td>\n",
       "      <td>Global warming is driving polar bears toward e...</td>\n",
       "      <td>SUPPORTS</td>\n",
       "      <td>Extinction risk from global warming:170</td>\n",
       "      <td>NOT_ENOUGH_INFO</td>\n",
       "      <td>Extinction risk from global warming</td>\n",
       "      <td>\"Recent Research Shows Human Activity Driving ...</td>\n",
       "      <td>0.693147</td>\n",
       "      <td>SUPPORTS</td>\n",
       "      <td>NOT_ENOUGH_INFO</td>\n",
       "      <td>...</td>\n",
       "      <td>Polar bear:1328</td>\n",
       "      <td>NOT_ENOUGH_INFO</td>\n",
       "      <td>Polar bear</td>\n",
       "      <td>\"Bear hunting caught in global warming debate\".</td>\n",
       "      <td>0.693147</td>\n",
       "      <td>SUPPORTS</td>\n",
       "      <td>NOT_ENOUGH_INFO</td>\n",
       "      <td>NaN</td>\n",
       "      <td>NaN</td>\n",
       "      <td>NaN</td>\n",
       "    </tr>\n",
       "    <tr>\n",
       "      <th>1</th>\n",
       "      <td>5</td>\n",
       "      <td>The sun has gone into ‘lockdown’ which could c...</td>\n",
       "      <td>SUPPORTS</td>\n",
       "      <td>Famine:386</td>\n",
       "      <td>SUPPORTS</td>\n",
       "      <td>Famine</td>\n",
       "      <td>The current consensus of the scientific commun...</td>\n",
       "      <td>0.000000</td>\n",
       "      <td>SUPPORTS</td>\n",
       "      <td>SUPPORTS</td>\n",
       "      <td>...</td>\n",
       "      <td>Winter:5</td>\n",
       "      <td>NOT_ENOUGH_INFO</td>\n",
       "      <td>Winter</td>\n",
       "      <td>In many regions, winter is associated with sno...</td>\n",
       "      <td>0.693147</td>\n",
       "      <td>REFUTES</td>\n",
       "      <td>NOT_ENOUGH_INFO</td>\n",
       "      <td>NaN</td>\n",
       "      <td>NaN</td>\n",
       "      <td>NaN</td>\n",
       "    </tr>\n",
       "    <tr>\n",
       "      <th>2</th>\n",
       "      <td>6</td>\n",
       "      <td>The polar bear population has been growing.</td>\n",
       "      <td>REFUTES</td>\n",
       "      <td>Polar bear:1332</td>\n",
       "      <td>NOT_ENOUGH_INFO</td>\n",
       "      <td>Polar bear</td>\n",
       "      <td>\"Ask the experts: Are polar bear populations i...</td>\n",
       "      <td>0.693147</td>\n",
       "      <td>NOT_ENOUGH_INFO</td>\n",
       "      <td>REFUTES</td>\n",
       "      <td>...</td>\n",
       "      <td>Polar bear:61</td>\n",
       "      <td>REFUTES</td>\n",
       "      <td>Polar bear</td>\n",
       "      <td>Of the 19 recognized polar bear subpopulations...</td>\n",
       "      <td>0.000000</td>\n",
       "      <td>REFUTES</td>\n",
       "      <td>REFUTES</td>\n",
       "      <td>NaN</td>\n",
       "      <td>NaN</td>\n",
       "      <td>NaN</td>\n",
       "    </tr>\n",
       "    <tr>\n",
       "      <th>3</th>\n",
       "      <td>9</td>\n",
       "      <td>Ironic' study finds more CO2 has slightly cool...</td>\n",
       "      <td>REFUTES</td>\n",
       "      <td>Atmosphere of Mars:131</td>\n",
       "      <td>NOT_ENOUGH_INFO</td>\n",
       "      <td>Atmosphere of Mars</td>\n",
       "      <td>CO2 in the mesosphere acts as a cooling agent ...</td>\n",
       "      <td>0.693147</td>\n",
       "      <td>NOT_ENOUGH_INFO</td>\n",
       "      <td>SUPPORTS</td>\n",
       "      <td>...</td>\n",
       "      <td>Carbon dioxide:191</td>\n",
       "      <td>NOT_ENOUGH_INFO</td>\n",
       "      <td>Carbon dioxide</td>\n",
       "      <td>Less energy reaches the upper atmosphere, whic...</td>\n",
       "      <td>0.000000</td>\n",
       "      <td>NOT_ENOUGH_INFO</td>\n",
       "      <td>NOT_ENOUGH_INFO</td>\n",
       "      <td>NaN</td>\n",
       "      <td>NaN</td>\n",
       "      <td>NaN</td>\n",
       "    </tr>\n",
       "    <tr>\n",
       "      <th>4</th>\n",
       "      <td>10</td>\n",
       "      <td>Human additions of CO2 are in the margin of er...</td>\n",
       "      <td>REFUTES</td>\n",
       "      <td>Carbon dioxide in Earth's atmosphere:140</td>\n",
       "      <td>NOT_ENOUGH_INFO</td>\n",
       "      <td>Carbon dioxide in Earth's atmosphere</td>\n",
       "      <td>While CO 2 absorption and release is always ha...</td>\n",
       "      <td>0.693147</td>\n",
       "      <td>NOT_ENOUGH_INFO</td>\n",
       "      <td>REFUTES</td>\n",
       "      <td>...</td>\n",
       "      <td>Sea:226</td>\n",
       "      <td>REFUTES</td>\n",
       "      <td>Sea</td>\n",
       "      <td>More recently, anthropogenic activities have s...</td>\n",
       "      <td>0.000000</td>\n",
       "      <td>REFUTES</td>\n",
       "      <td>REFUTES</td>\n",
       "      <td>NaN</td>\n",
       "      <td>NaN</td>\n",
       "      <td>NaN</td>\n",
       "    </tr>\n",
       "  </tbody>\n",
       "</table>\n",
       "<p>5 rows × 53 columns</p>\n",
       "</div>"
      ],
      "text/plain": [
       "   claim_id                                              claim claim_label  \\\n",
       "0         0  Global warming is driving polar bears toward e...    SUPPORTS   \n",
       "1         5  The sun has gone into ‘lockdown’ which could c...    SUPPORTS   \n",
       "2         6        The polar bear population has been growing.     REFUTES   \n",
       "3         9  Ironic' study finds more CO2 has slightly cool...     REFUTES   \n",
       "4        10  Human additions of CO2 are in the margin of er...     REFUTES   \n",
       "\n",
       "                    evidences/0/evidence_id evidences/0/evidence_label  \\\n",
       "0   Extinction risk from global warming:170            NOT_ENOUGH_INFO   \n",
       "1                                Famine:386                   SUPPORTS   \n",
       "2                           Polar bear:1332            NOT_ENOUGH_INFO   \n",
       "3                    Atmosphere of Mars:131            NOT_ENOUGH_INFO   \n",
       "4  Carbon dioxide in Earth's atmosphere:140            NOT_ENOUGH_INFO   \n",
       "\n",
       "                    evidences/0/article  \\\n",
       "0   Extinction risk from global warming   \n",
       "1                                Famine   \n",
       "2                            Polar bear   \n",
       "3                    Atmosphere of Mars   \n",
       "4  Carbon dioxide in Earth's atmosphere   \n",
       "\n",
       "                                evidences/0/evidence  evidences/0/entropy  \\\n",
       "0  \"Recent Research Shows Human Activity Driving ...             0.693147   \n",
       "1  The current consensus of the scientific commun...             0.000000   \n",
       "2  \"Ask the experts: Are polar bear populations i...             0.693147   \n",
       "3  CO2 in the mesosphere acts as a cooling agent ...             0.693147   \n",
       "4  While CO 2 absorption and release is always ha...             0.693147   \n",
       "\n",
       "  evidences/0/votes/0 evidences/0/votes/1  ... evidences/4/evidence_id  \\\n",
       "0            SUPPORTS     NOT_ENOUGH_INFO  ...         Polar bear:1328   \n",
       "1            SUPPORTS            SUPPORTS  ...                Winter:5   \n",
       "2     NOT_ENOUGH_INFO             REFUTES  ...           Polar bear:61   \n",
       "3     NOT_ENOUGH_INFO            SUPPORTS  ...      Carbon dioxide:191   \n",
       "4     NOT_ENOUGH_INFO             REFUTES  ...                 Sea:226   \n",
       "\n",
       "  evidences/4/evidence_label evidences/4/article  \\\n",
       "0            NOT_ENOUGH_INFO          Polar bear   \n",
       "1            NOT_ENOUGH_INFO              Winter   \n",
       "2                    REFUTES          Polar bear   \n",
       "3            NOT_ENOUGH_INFO      Carbon dioxide   \n",
       "4                    REFUTES                 Sea   \n",
       "\n",
       "                                evidences/4/evidence evidences/4/entropy  \\\n",
       "0    \"Bear hunting caught in global warming debate\".            0.693147   \n",
       "1  In many regions, winter is associated with sno...            0.693147   \n",
       "2  Of the 19 recognized polar bear subpopulations...            0.000000   \n",
       "3  Less energy reaches the upper atmosphere, whic...            0.000000   \n",
       "4  More recently, anthropogenic activities have s...            0.000000   \n",
       "\n",
       "  evidences/4/votes/0 evidences/4/votes/1  evidences/4/votes/2  \\\n",
       "0            SUPPORTS     NOT_ENOUGH_INFO                  NaN   \n",
       "1             REFUTES     NOT_ENOUGH_INFO                  NaN   \n",
       "2             REFUTES             REFUTES                  NaN   \n",
       "3     NOT_ENOUGH_INFO     NOT_ENOUGH_INFO                  NaN   \n",
       "4             REFUTES             REFUTES                  NaN   \n",
       "\n",
       "  evidences/4/votes/3 evidences/4/votes/4  \n",
       "0                 NaN                 NaN  \n",
       "1                 NaN                 NaN  \n",
       "2                 NaN                 NaN  \n",
       "3                 NaN                 NaN  \n",
       "4                 NaN                 NaN  \n",
       "\n",
       "[5 rows x 53 columns]"
      ]
     },
     "execution_count": 3,
     "metadata": {},
     "output_type": "execute_result"
    }
   ],
   "source": [
    "df.head()"
   ]
  },
  {
   "cell_type": "code",
   "execution_count": 4,
   "metadata": {},
   "outputs": [
    {
     "name": "stderr",
     "output_type": "stream",
     "text": [
      "/var/folders/tq/_g562qkj467fkdvt5my8dy180000gn/T/ipykernel_73926/3287360528.py:13: SettingWithCopyWarning: \n",
      "A value is trying to be set on a copy of a slice from a DataFrame.\n",
      "Try using .loc[row_indexer,col_indexer] = value instead\n",
      "\n",
      "See the caveats in the documentation: https://pandas.pydata.org/pandas-docs/stable/user_guide/indexing.html#returning-a-view-versus-a-copy\n",
      "  df_filtered['claim_label'] = df_filtered['claim_label'].map(label_mapping)\n"
     ]
    }
   ],
   "source": [
    "# Select only the required columns\n",
    "df_filtered = df[['claim', 'claim_label']]\n",
    "\n",
    "# Define the mapping of labels\n",
    "label_mapping = {\n",
    "    'SUPPORTS': 'True',\n",
    "    'REFUTES': 'False',\n",
    "    'NOT_ENOUGH_INFO': 'Insufficient Evidence',\n",
    "    'DISPUTED': 'Partially True'\n",
    "}\n",
    "\n",
    "# Apply the mapping to the claim_label column\n",
    "df_filtered['claim_label'] = df_filtered['claim_label'].map(label_mapping)\n",
    "\n"
   ]
  },
  {
   "cell_type": "code",
   "execution_count": 5,
   "metadata": {},
   "outputs": [
    {
     "data": {
      "text/html": [
       "<div>\n",
       "<style scoped>\n",
       "    .dataframe tbody tr th:only-of-type {\n",
       "        vertical-align: middle;\n",
       "    }\n",
       "\n",
       "    .dataframe tbody tr th {\n",
       "        vertical-align: top;\n",
       "    }\n",
       "\n",
       "    .dataframe thead th {\n",
       "        text-align: right;\n",
       "    }\n",
       "</style>\n",
       "<table border=\"1\" class=\"dataframe\">\n",
       "  <thead>\n",
       "    <tr style=\"text-align: right;\">\n",
       "      <th></th>\n",
       "      <th>claim</th>\n",
       "      <th>claim_label</th>\n",
       "    </tr>\n",
       "  </thead>\n",
       "  <tbody>\n",
       "    <tr>\n",
       "      <th>0</th>\n",
       "      <td>Global warming is driving polar bears toward e...</td>\n",
       "      <td>True</td>\n",
       "    </tr>\n",
       "    <tr>\n",
       "      <th>1</th>\n",
       "      <td>The sun has gone into ‘lockdown’ which could c...</td>\n",
       "      <td>True</td>\n",
       "    </tr>\n",
       "    <tr>\n",
       "      <th>2</th>\n",
       "      <td>The polar bear population has been growing.</td>\n",
       "      <td>False</td>\n",
       "    </tr>\n",
       "    <tr>\n",
       "      <th>3</th>\n",
       "      <td>Ironic' study finds more CO2 has slightly cool...</td>\n",
       "      <td>False</td>\n",
       "    </tr>\n",
       "    <tr>\n",
       "      <th>4</th>\n",
       "      <td>Human additions of CO2 are in the margin of er...</td>\n",
       "      <td>False</td>\n",
       "    </tr>\n",
       "  </tbody>\n",
       "</table>\n",
       "</div>"
      ],
      "text/plain": [
       "                                               claim claim_label\n",
       "0  Global warming is driving polar bears toward e...        True\n",
       "1  The sun has gone into ‘lockdown’ which could c...        True\n",
       "2        The polar bear population has been growing.       False\n",
       "3  Ironic' study finds more CO2 has slightly cool...       False\n",
       "4  Human additions of CO2 are in the margin of er...       False"
      ]
     },
     "execution_count": 5,
     "metadata": {},
     "output_type": "execute_result"
    }
   ],
   "source": [
    "df_filtered.head()"
   ]
  },
  {
   "cell_type": "code",
   "execution_count": 6,
   "metadata": {},
   "outputs": [
    {
     "name": "stdout",
     "output_type": "stream",
     "text": [
      "Requirement already satisfied: pandas in /Users/mac/anaconda3/lib/python3.12/site-packages (2.2.2)\n",
      "Requirement already satisfied: requests in /Users/mac/anaconda3/lib/python3.12/site-packages (2.31.0)\n",
      "Requirement already satisfied: scikit-learn in /Users/mac/anaconda3/lib/python3.12/site-packages (1.5.1)\n",
      "Requirement already satisfied: matplotlib in /Users/mac/anaconda3/lib/python3.12/site-packages (3.9.2)\n",
      "Requirement already satisfied: seaborn in /Users/mac/anaconda3/lib/python3.12/site-packages (0.13.2)\n",
      "Requirement already satisfied: numpy>=1.26.0 in /Users/mac/anaconda3/lib/python3.12/site-packages (from pandas) (1.26.4)\n",
      "Requirement already satisfied: python-dateutil>=2.8.2 in /Users/mac/anaconda3/lib/python3.12/site-packages (from pandas) (2.9.0.post0)\n",
      "Requirement already satisfied: pytz>=2020.1 in /Users/mac/anaconda3/lib/python3.12/site-packages (from pandas) (2025.1)\n",
      "Requirement already satisfied: tzdata>=2022.7 in /Users/mac/anaconda3/lib/python3.12/site-packages (from pandas) (2023.3)\n",
      "Requirement already satisfied: charset-normalizer<4,>=2 in /Users/mac/anaconda3/lib/python3.12/site-packages (from requests) (3.4.1)\n",
      "Requirement already satisfied: idna<4,>=2.5 in /Users/mac/anaconda3/lib/python3.12/site-packages (from requests) (3.7)\n",
      "Requirement already satisfied: urllib3<3,>=1.21.1 in /Users/mac/anaconda3/lib/python3.12/site-packages (from requests) (2.2.3)\n",
      "Requirement already satisfied: certifi>=2017.4.17 in /Users/mac/anaconda3/lib/python3.12/site-packages (from requests) (2024.8.30)\n",
      "Requirement already satisfied: scipy>=1.6.0 in /Users/mac/anaconda3/lib/python3.12/site-packages (from scikit-learn) (1.13.1)\n",
      "Requirement already satisfied: joblib>=1.2.0 in /Users/mac/anaconda3/lib/python3.12/site-packages (from scikit-learn) (1.4.2)\n",
      "Requirement already satisfied: threadpoolctl>=3.1.0 in /Users/mac/anaconda3/lib/python3.12/site-packages (from scikit-learn) (3.5.0)\n",
      "Requirement already satisfied: contourpy>=1.0.1 in /Users/mac/anaconda3/lib/python3.12/site-packages (from matplotlib) (1.2.0)\n",
      "Requirement already satisfied: cycler>=0.10 in /Users/mac/anaconda3/lib/python3.12/site-packages (from matplotlib) (0.11.0)\n",
      "Requirement already satisfied: fonttools>=4.22.0 in /Users/mac/anaconda3/lib/python3.12/site-packages (from matplotlib) (4.51.0)\n",
      "Requirement already satisfied: kiwisolver>=1.3.1 in /Users/mac/anaconda3/lib/python3.12/site-packages (from matplotlib) (1.4.4)\n",
      "Requirement already satisfied: packaging>=20.0 in /Users/mac/anaconda3/lib/python3.12/site-packages (from matplotlib) (24.1)\n",
      "Requirement already satisfied: pillow>=8 in /Users/mac/anaconda3/lib/python3.12/site-packages (from matplotlib) (10.4.0)\n",
      "Requirement already satisfied: pyparsing>=2.3.1 in /Users/mac/anaconda3/lib/python3.12/site-packages (from matplotlib) (3.1.2)\n",
      "Requirement already satisfied: six>=1.5 in /Users/mac/anaconda3/lib/python3.12/site-packages (from python-dateutil>=2.8.2->pandas) (1.16.0)\n",
      "Note: you may need to restart the kernel to use updated packages.\n"
     ]
    }
   ],
   "source": [
    "%pip install pandas requests scikit-learn matplotlib seaborn"
   ]
  },
  {
   "cell_type": "code",
   "execution_count": 7,
   "metadata": {},
   "outputs": [],
   "source": [
    "import pandas as pd\n",
    "import requests\n",
    "import time\n",
    "import numpy as np\n",
    "import matplotlib.pyplot as plt\n",
    "import seaborn as sns\n",
    "from sklearn.metrics import (\n",
    "    accuracy_score,\n",
    "    classification_report,\n",
    "    confusion_matrix,\n",
    ")"
   ]
  },
  {
   "cell_type": "code",
   "execution_count": 8,
   "metadata": {},
   "outputs": [],
   "source": [
    "API_URL = \"http://127.0.0.1:5001/fact-check\"\n",
    "\n",
    "SLEEP_SEC    = 0.1  \n",
    "\n",
    "claims = df_filtered[\"claim\"].tolist()\n",
    "gold_labels = df_filtered[\"claim_label\"].tolist()\n",
    "\n",
    "\n",
    "# 3.—— Define label mapping ——————————————————————————————————————\n",
    "# We map each verdict string to an integer 0–3\n",
    "label_values = [\"True\", \"False\", \"Partially True\", \"Insufficient Evidence\"]\n",
    "label2idx = {lab: i for i, lab in enumerate(label_values)}\n",
    "\n",
    "y_true = [label2idx[label] for label in gold_labels]"
   ]
  },
  {
   "cell_type": "code",
   "execution_count": 9,
   "metadata": {},
   "outputs": [
    {
     "ename": "KeyboardInterrupt",
     "evalue": "",
     "output_type": "error",
     "traceback": [
      "\u001b[0;31m---------------------------------------------------------------------------\u001b[0m",
      "\u001b[0;31mKeyboardInterrupt\u001b[0m                         Traceback (most recent call last)",
      "Cell \u001b[0;32mIn[9], line 4\u001b[0m\n\u001b[1;32m      2\u001b[0m y_pred \u001b[38;5;241m=\u001b[39m []\n\u001b[1;32m      3\u001b[0m \u001b[38;5;28;01mfor\u001b[39;00m claim \u001b[38;5;129;01min\u001b[39;00m claims:\n\u001b[0;32m----> 4\u001b[0m     resp \u001b[38;5;241m=\u001b[39m requests\u001b[38;5;241m.\u001b[39mpost(API_URL, json\u001b[38;5;241m=\u001b[39m{\u001b[38;5;124m\"\u001b[39m\u001b[38;5;124mclaim\u001b[39m\u001b[38;5;124m\"\u001b[39m: claim})\n\u001b[1;32m      5\u001b[0m     data \u001b[38;5;241m=\u001b[39m resp\u001b[38;5;241m.\u001b[39mjson()\n\u001b[1;32m      6\u001b[0m     pred_verdict \u001b[38;5;241m=\u001b[39m data\u001b[38;5;241m.\u001b[39mget(\u001b[38;5;124m\"\u001b[39m\u001b[38;5;124mverdict\u001b[39m\u001b[38;5;124m\"\u001b[39m, \u001b[38;5;124m\"\u001b[39m\u001b[38;5;124m\"\u001b[39m)\n",
      "File \u001b[0;32m~/anaconda3/lib/python3.12/site-packages/requests/api.py:115\u001b[0m, in \u001b[0;36mpost\u001b[0;34m(url, data, json, **kwargs)\u001b[0m\n\u001b[1;32m    103\u001b[0m \u001b[38;5;28;01mdef\u001b[39;00m \u001b[38;5;21mpost\u001b[39m(url, data\u001b[38;5;241m=\u001b[39m\u001b[38;5;28;01mNone\u001b[39;00m, json\u001b[38;5;241m=\u001b[39m\u001b[38;5;28;01mNone\u001b[39;00m, \u001b[38;5;241m*\u001b[39m\u001b[38;5;241m*\u001b[39mkwargs):\n\u001b[1;32m    104\u001b[0m \u001b[38;5;250m    \u001b[39m\u001b[38;5;124mr\u001b[39m\u001b[38;5;124;03m\"\"\"Sends a POST request.\u001b[39;00m\n\u001b[1;32m    105\u001b[0m \n\u001b[1;32m    106\u001b[0m \u001b[38;5;124;03m    :param url: URL for the new :class:`Request` object.\u001b[39;00m\n\u001b[0;32m   (...)\u001b[0m\n\u001b[1;32m    112\u001b[0m \u001b[38;5;124;03m    :rtype: requests.Response\u001b[39;00m\n\u001b[1;32m    113\u001b[0m \u001b[38;5;124;03m    \"\"\"\u001b[39;00m\n\u001b[0;32m--> 115\u001b[0m     \u001b[38;5;28;01mreturn\u001b[39;00m request(\u001b[38;5;124m\"\u001b[39m\u001b[38;5;124mpost\u001b[39m\u001b[38;5;124m\"\u001b[39m, url, data\u001b[38;5;241m=\u001b[39mdata, json\u001b[38;5;241m=\u001b[39mjson, \u001b[38;5;241m*\u001b[39m\u001b[38;5;241m*\u001b[39mkwargs)\n",
      "File \u001b[0;32m~/anaconda3/lib/python3.12/site-packages/requests/api.py:59\u001b[0m, in \u001b[0;36mrequest\u001b[0;34m(method, url, **kwargs)\u001b[0m\n\u001b[1;32m     55\u001b[0m \u001b[38;5;66;03m# By using the 'with' statement we are sure the session is closed, thus we\u001b[39;00m\n\u001b[1;32m     56\u001b[0m \u001b[38;5;66;03m# avoid leaving sockets open which can trigger a ResourceWarning in some\u001b[39;00m\n\u001b[1;32m     57\u001b[0m \u001b[38;5;66;03m# cases, and look like a memory leak in others.\u001b[39;00m\n\u001b[1;32m     58\u001b[0m \u001b[38;5;28;01mwith\u001b[39;00m sessions\u001b[38;5;241m.\u001b[39mSession() \u001b[38;5;28;01mas\u001b[39;00m session:\n\u001b[0;32m---> 59\u001b[0m     \u001b[38;5;28;01mreturn\u001b[39;00m session\u001b[38;5;241m.\u001b[39mrequest(method\u001b[38;5;241m=\u001b[39mmethod, url\u001b[38;5;241m=\u001b[39murl, \u001b[38;5;241m*\u001b[39m\u001b[38;5;241m*\u001b[39mkwargs)\n",
      "File \u001b[0;32m~/anaconda3/lib/python3.12/site-packages/requests/sessions.py:589\u001b[0m, in \u001b[0;36mSession.request\u001b[0;34m(self, method, url, params, data, headers, cookies, files, auth, timeout, allow_redirects, proxies, hooks, stream, verify, cert, json)\u001b[0m\n\u001b[1;32m    584\u001b[0m send_kwargs \u001b[38;5;241m=\u001b[39m {\n\u001b[1;32m    585\u001b[0m     \u001b[38;5;124m\"\u001b[39m\u001b[38;5;124mtimeout\u001b[39m\u001b[38;5;124m\"\u001b[39m: timeout,\n\u001b[1;32m    586\u001b[0m     \u001b[38;5;124m\"\u001b[39m\u001b[38;5;124mallow_redirects\u001b[39m\u001b[38;5;124m\"\u001b[39m: allow_redirects,\n\u001b[1;32m    587\u001b[0m }\n\u001b[1;32m    588\u001b[0m send_kwargs\u001b[38;5;241m.\u001b[39mupdate(settings)\n\u001b[0;32m--> 589\u001b[0m resp \u001b[38;5;241m=\u001b[39m \u001b[38;5;28mself\u001b[39m\u001b[38;5;241m.\u001b[39msend(prep, \u001b[38;5;241m*\u001b[39m\u001b[38;5;241m*\u001b[39msend_kwargs)\n\u001b[1;32m    591\u001b[0m \u001b[38;5;28;01mreturn\u001b[39;00m resp\n",
      "File \u001b[0;32m~/anaconda3/lib/python3.12/site-packages/requests/sessions.py:703\u001b[0m, in \u001b[0;36mSession.send\u001b[0;34m(self, request, **kwargs)\u001b[0m\n\u001b[1;32m    700\u001b[0m start \u001b[38;5;241m=\u001b[39m preferred_clock()\n\u001b[1;32m    702\u001b[0m \u001b[38;5;66;03m# Send the request\u001b[39;00m\n\u001b[0;32m--> 703\u001b[0m r \u001b[38;5;241m=\u001b[39m adapter\u001b[38;5;241m.\u001b[39msend(request, \u001b[38;5;241m*\u001b[39m\u001b[38;5;241m*\u001b[39mkwargs)\n\u001b[1;32m    705\u001b[0m \u001b[38;5;66;03m# Total elapsed time of the request (approximately)\u001b[39;00m\n\u001b[1;32m    706\u001b[0m elapsed \u001b[38;5;241m=\u001b[39m preferred_clock() \u001b[38;5;241m-\u001b[39m start\n",
      "File \u001b[0;32m~/anaconda3/lib/python3.12/site-packages/requests/adapters.py:486\u001b[0m, in \u001b[0;36mHTTPAdapter.send\u001b[0;34m(self, request, stream, timeout, verify, cert, proxies)\u001b[0m\n\u001b[1;32m    483\u001b[0m     timeout \u001b[38;5;241m=\u001b[39m TimeoutSauce(connect\u001b[38;5;241m=\u001b[39mtimeout, read\u001b[38;5;241m=\u001b[39mtimeout)\n\u001b[1;32m    485\u001b[0m \u001b[38;5;28;01mtry\u001b[39;00m:\n\u001b[0;32m--> 486\u001b[0m     resp \u001b[38;5;241m=\u001b[39m conn\u001b[38;5;241m.\u001b[39murlopen(\n\u001b[1;32m    487\u001b[0m         method\u001b[38;5;241m=\u001b[39mrequest\u001b[38;5;241m.\u001b[39mmethod,\n\u001b[1;32m    488\u001b[0m         url\u001b[38;5;241m=\u001b[39murl,\n\u001b[1;32m    489\u001b[0m         body\u001b[38;5;241m=\u001b[39mrequest\u001b[38;5;241m.\u001b[39mbody,\n\u001b[1;32m    490\u001b[0m         headers\u001b[38;5;241m=\u001b[39mrequest\u001b[38;5;241m.\u001b[39mheaders,\n\u001b[1;32m    491\u001b[0m         redirect\u001b[38;5;241m=\u001b[39m\u001b[38;5;28;01mFalse\u001b[39;00m,\n\u001b[1;32m    492\u001b[0m         assert_same_host\u001b[38;5;241m=\u001b[39m\u001b[38;5;28;01mFalse\u001b[39;00m,\n\u001b[1;32m    493\u001b[0m         preload_content\u001b[38;5;241m=\u001b[39m\u001b[38;5;28;01mFalse\u001b[39;00m,\n\u001b[1;32m    494\u001b[0m         decode_content\u001b[38;5;241m=\u001b[39m\u001b[38;5;28;01mFalse\u001b[39;00m,\n\u001b[1;32m    495\u001b[0m         retries\u001b[38;5;241m=\u001b[39m\u001b[38;5;28mself\u001b[39m\u001b[38;5;241m.\u001b[39mmax_retries,\n\u001b[1;32m    496\u001b[0m         timeout\u001b[38;5;241m=\u001b[39mtimeout,\n\u001b[1;32m    497\u001b[0m         chunked\u001b[38;5;241m=\u001b[39mchunked,\n\u001b[1;32m    498\u001b[0m     )\n\u001b[1;32m    500\u001b[0m \u001b[38;5;28;01mexcept\u001b[39;00m (ProtocolError, \u001b[38;5;167;01mOSError\u001b[39;00m) \u001b[38;5;28;01mas\u001b[39;00m err:\n\u001b[1;32m    501\u001b[0m     \u001b[38;5;28;01mraise\u001b[39;00m \u001b[38;5;167;01mConnectionError\u001b[39;00m(err, request\u001b[38;5;241m=\u001b[39mrequest)\n",
      "File \u001b[0;32m~/anaconda3/lib/python3.12/site-packages/urllib3/connectionpool.py:789\u001b[0m, in \u001b[0;36mHTTPConnectionPool.urlopen\u001b[0;34m(self, method, url, body, headers, retries, redirect, assert_same_host, timeout, pool_timeout, release_conn, chunked, body_pos, preload_content, decode_content, **response_kw)\u001b[0m\n\u001b[1;32m    786\u001b[0m response_conn \u001b[38;5;241m=\u001b[39m conn \u001b[38;5;28;01mif\u001b[39;00m \u001b[38;5;129;01mnot\u001b[39;00m release_conn \u001b[38;5;28;01melse\u001b[39;00m \u001b[38;5;28;01mNone\u001b[39;00m\n\u001b[1;32m    788\u001b[0m \u001b[38;5;66;03m# Make the request on the HTTPConnection object\u001b[39;00m\n\u001b[0;32m--> 789\u001b[0m response \u001b[38;5;241m=\u001b[39m \u001b[38;5;28mself\u001b[39m\u001b[38;5;241m.\u001b[39m_make_request(\n\u001b[1;32m    790\u001b[0m     conn,\n\u001b[1;32m    791\u001b[0m     method,\n\u001b[1;32m    792\u001b[0m     url,\n\u001b[1;32m    793\u001b[0m     timeout\u001b[38;5;241m=\u001b[39mtimeout_obj,\n\u001b[1;32m    794\u001b[0m     body\u001b[38;5;241m=\u001b[39mbody,\n\u001b[1;32m    795\u001b[0m     headers\u001b[38;5;241m=\u001b[39mheaders,\n\u001b[1;32m    796\u001b[0m     chunked\u001b[38;5;241m=\u001b[39mchunked,\n\u001b[1;32m    797\u001b[0m     retries\u001b[38;5;241m=\u001b[39mretries,\n\u001b[1;32m    798\u001b[0m     response_conn\u001b[38;5;241m=\u001b[39mresponse_conn,\n\u001b[1;32m    799\u001b[0m     preload_content\u001b[38;5;241m=\u001b[39mpreload_content,\n\u001b[1;32m    800\u001b[0m     decode_content\u001b[38;5;241m=\u001b[39mdecode_content,\n\u001b[1;32m    801\u001b[0m     \u001b[38;5;241m*\u001b[39m\u001b[38;5;241m*\u001b[39mresponse_kw,\n\u001b[1;32m    802\u001b[0m )\n\u001b[1;32m    804\u001b[0m \u001b[38;5;66;03m# Everything went great!\u001b[39;00m\n\u001b[1;32m    805\u001b[0m clean_exit \u001b[38;5;241m=\u001b[39m \u001b[38;5;28;01mTrue\u001b[39;00m\n",
      "File \u001b[0;32m~/anaconda3/lib/python3.12/site-packages/urllib3/connectionpool.py:536\u001b[0m, in \u001b[0;36mHTTPConnectionPool._make_request\u001b[0;34m(self, conn, method, url, body, headers, retries, timeout, chunked, response_conn, preload_content, decode_content, enforce_content_length)\u001b[0m\n\u001b[1;32m    534\u001b[0m \u001b[38;5;66;03m# Receive the response from the server\u001b[39;00m\n\u001b[1;32m    535\u001b[0m \u001b[38;5;28;01mtry\u001b[39;00m:\n\u001b[0;32m--> 536\u001b[0m     response \u001b[38;5;241m=\u001b[39m conn\u001b[38;5;241m.\u001b[39mgetresponse()\n\u001b[1;32m    537\u001b[0m \u001b[38;5;28;01mexcept\u001b[39;00m (BaseSSLError, \u001b[38;5;167;01mOSError\u001b[39;00m) \u001b[38;5;28;01mas\u001b[39;00m e:\n\u001b[1;32m    538\u001b[0m     \u001b[38;5;28mself\u001b[39m\u001b[38;5;241m.\u001b[39m_raise_timeout(err\u001b[38;5;241m=\u001b[39me, url\u001b[38;5;241m=\u001b[39murl, timeout_value\u001b[38;5;241m=\u001b[39mread_timeout)\n",
      "File \u001b[0;32m~/anaconda3/lib/python3.12/site-packages/urllib3/connection.py:507\u001b[0m, in \u001b[0;36mHTTPConnection.getresponse\u001b[0;34m(self)\u001b[0m\n\u001b[1;32m    504\u001b[0m \u001b[38;5;28;01mfrom\u001b[39;00m \u001b[38;5;21;01m.\u001b[39;00m\u001b[38;5;21;01mresponse\u001b[39;00m \u001b[38;5;28;01mimport\u001b[39;00m HTTPResponse\n\u001b[1;32m    506\u001b[0m \u001b[38;5;66;03m# Get the response from http.client.HTTPConnection\u001b[39;00m\n\u001b[0;32m--> 507\u001b[0m httplib_response \u001b[38;5;241m=\u001b[39m \u001b[38;5;28msuper\u001b[39m()\u001b[38;5;241m.\u001b[39mgetresponse()\n\u001b[1;32m    509\u001b[0m \u001b[38;5;28;01mtry\u001b[39;00m:\n\u001b[1;32m    510\u001b[0m     assert_header_parsing(httplib_response\u001b[38;5;241m.\u001b[39mmsg)\n",
      "File \u001b[0;32m~/anaconda3/lib/python3.12/http/client.py:1428\u001b[0m, in \u001b[0;36mHTTPConnection.getresponse\u001b[0;34m(self)\u001b[0m\n\u001b[1;32m   1426\u001b[0m \u001b[38;5;28;01mtry\u001b[39;00m:\n\u001b[1;32m   1427\u001b[0m     \u001b[38;5;28;01mtry\u001b[39;00m:\n\u001b[0;32m-> 1428\u001b[0m         response\u001b[38;5;241m.\u001b[39mbegin()\n\u001b[1;32m   1429\u001b[0m     \u001b[38;5;28;01mexcept\u001b[39;00m \u001b[38;5;167;01mConnectionError\u001b[39;00m:\n\u001b[1;32m   1430\u001b[0m         \u001b[38;5;28mself\u001b[39m\u001b[38;5;241m.\u001b[39mclose()\n",
      "File \u001b[0;32m~/anaconda3/lib/python3.12/http/client.py:331\u001b[0m, in \u001b[0;36mHTTPResponse.begin\u001b[0;34m(self)\u001b[0m\n\u001b[1;32m    329\u001b[0m \u001b[38;5;66;03m# read until we get a non-100 response\u001b[39;00m\n\u001b[1;32m    330\u001b[0m \u001b[38;5;28;01mwhile\u001b[39;00m \u001b[38;5;28;01mTrue\u001b[39;00m:\n\u001b[0;32m--> 331\u001b[0m     version, status, reason \u001b[38;5;241m=\u001b[39m \u001b[38;5;28mself\u001b[39m\u001b[38;5;241m.\u001b[39m_read_status()\n\u001b[1;32m    332\u001b[0m     \u001b[38;5;28;01mif\u001b[39;00m status \u001b[38;5;241m!=\u001b[39m CONTINUE:\n\u001b[1;32m    333\u001b[0m         \u001b[38;5;28;01mbreak\u001b[39;00m\n",
      "File \u001b[0;32m~/anaconda3/lib/python3.12/http/client.py:292\u001b[0m, in \u001b[0;36mHTTPResponse._read_status\u001b[0;34m(self)\u001b[0m\n\u001b[1;32m    291\u001b[0m \u001b[38;5;28;01mdef\u001b[39;00m \u001b[38;5;21m_read_status\u001b[39m(\u001b[38;5;28mself\u001b[39m):\n\u001b[0;32m--> 292\u001b[0m     line \u001b[38;5;241m=\u001b[39m \u001b[38;5;28mstr\u001b[39m(\u001b[38;5;28mself\u001b[39m\u001b[38;5;241m.\u001b[39mfp\u001b[38;5;241m.\u001b[39mreadline(_MAXLINE \u001b[38;5;241m+\u001b[39m \u001b[38;5;241m1\u001b[39m), \u001b[38;5;124m\"\u001b[39m\u001b[38;5;124miso-8859-1\u001b[39m\u001b[38;5;124m\"\u001b[39m)\n\u001b[1;32m    293\u001b[0m     \u001b[38;5;28;01mif\u001b[39;00m \u001b[38;5;28mlen\u001b[39m(line) \u001b[38;5;241m>\u001b[39m _MAXLINE:\n\u001b[1;32m    294\u001b[0m         \u001b[38;5;28;01mraise\u001b[39;00m LineTooLong(\u001b[38;5;124m\"\u001b[39m\u001b[38;5;124mstatus line\u001b[39m\u001b[38;5;124m\"\u001b[39m)\n",
      "File \u001b[0;32m~/anaconda3/lib/python3.12/socket.py:720\u001b[0m, in \u001b[0;36mSocketIO.readinto\u001b[0;34m(self, b)\u001b[0m\n\u001b[1;32m    718\u001b[0m \u001b[38;5;28;01mwhile\u001b[39;00m \u001b[38;5;28;01mTrue\u001b[39;00m:\n\u001b[1;32m    719\u001b[0m     \u001b[38;5;28;01mtry\u001b[39;00m:\n\u001b[0;32m--> 720\u001b[0m         \u001b[38;5;28;01mreturn\u001b[39;00m \u001b[38;5;28mself\u001b[39m\u001b[38;5;241m.\u001b[39m_sock\u001b[38;5;241m.\u001b[39mrecv_into(b)\n\u001b[1;32m    721\u001b[0m     \u001b[38;5;28;01mexcept\u001b[39;00m timeout:\n\u001b[1;32m    722\u001b[0m         \u001b[38;5;28mself\u001b[39m\u001b[38;5;241m.\u001b[39m_timeout_occurred \u001b[38;5;241m=\u001b[39m \u001b[38;5;28;01mTrue\u001b[39;00m\n",
      "\u001b[0;31mKeyboardInterrupt\u001b[0m: "
     ]
    }
   ],
   "source": [
    "# 4.—— Call the Flask API for each claim —————————————————————————————\n",
    "y_pred = []\n",
    "for claim in claims:\n",
    "    resp = requests.post(API_URL, json={\"claim\": claim})\n",
    "    data = resp.json()\n",
    "    pred_verdict = data.get(\"verdict\", \"\")\n",
    "    # fallback if unknown\n",
    "    if pred_verdict not in label2idx:\n",
    "        pred_idx = -1\n",
    "    else:\n",
    "        pred_idx = label2idx[pred_verdict]\n",
    "    y_pred.append(pred_idx)\n",
    "    time.sleep(SLEEP_SEC)"
   ]
  },
  {
   "cell_type": "code",
   "execution_count": 16,
   "metadata": {},
   "outputs": [],
   "source": [
    "y_true = y_true[:476]"
   ]
  },
  {
   "cell_type": "code",
   "execution_count": 29,
   "metadata": {},
   "outputs": [],
   "source": [
    "# Assume y_true and y_pred are lists of the same length\n",
    "with open(\"output.txt\", \"w\") as file:\n",
    "    file.write(\"y_true\\ty_pred\\n\")  # Optional: header\n",
    "    for true_val, pred_val in zip(y_true, y_pred):\n",
    "        file.write(f\"{true_val}\\t{pred_val}\\n\")\n"
   ]
  },
  {
   "cell_type": "code",
   "execution_count": 36,
   "metadata": {},
   "outputs": [
    {
     "name": "stdout",
     "output_type": "stream",
     "text": [
      "y_true = [0, 0, 1, 1, 1, 0, 0, 1, 1, 1, 3, 0, 3, 0, 1, 1, 3, 1, 0, 1, 1, 0, 2, 0, 2, 3, 2, 3, 1, 0, 3, 0, 0, 3, 3, 1, 1, 2, 1, 3, 3, 3, 0, 1, 1, 3, 0, 0, 3, 3, 1, 0, 1, 1, 0, 1, 0, 0, 1, 1, 1, 3, 3, 3, 0, 0, 1, 0, 0, 3, 3, 3, 0, 0, 3, 0, 3, 0, 3, 0, 3, 0, 1, 0, 3, 1, 0, 2, 0, 0, 3, 0, 3, 0, 1, 3, 1, 3, 1, 3, 3, 3, 0, 0, 3, 3, 1, 0, 0, 3, 1, 0, 3, 0, 0, 0, 0, 3, 0, 3, 3, 1, 0, 0, 0, 2, 0, 1, 1, 0, 0, 0, 1, 3, 3, 1, 0, 0, 1, 3, 2, 2, 3, 0, 3, 0, 2, 3, 3, 0, 0, 3, 1, 1, 1, 1, 3, 1, 0, 3, 3, 0, 3, 0, 3, 2, 0, 0, 3, 2, 1, 0, 2, 1, 1, 1, 3, 1, 1, 0, 0, 1, 0, 1, 3, 3, 2, 0, 0, 3, 3, 2, 2, 3, 3, 3, 0, 3, 1, 1, 0, 3, 0, 3, 1, 3, 1, 1, 1, 3, 3, 3, 3, 2, 3, 3, 0, 0, 3, 0, 3, 3, 0, 0, 2, 3, 3, 3, 3, 3, 1, 3, 3, 0, 3, 3, 1, 0, 0, 3, 3, 0, 0, 3, 3, 0, 0, 0, 0, 0, 0, 0, 0, 0, 2, 3, 0, 0, 0, 0, 0, 0, 3, 0, 3, 1, 2, 3, 1, 3, 0, 0, 0, 0, 0, 0, 3, 2, 2, 1, 0, 3, 0, 1, 3, 0, 0, 2, 0, 3, 3, 0, 3, 0, 2, 2, 2, 3, 1, 3, 0, 0, 3, 3, 0, 0, 3, 3, 0, 3, 0, 0, 1, 0, 3, 0, 0, 0, 3, 3, 2, 3, 0, 0, 2, 0, 3, 0, 3, 3, 3, 1, 2, 0, 0, 3, 2, 2, 3, 0, 0, 0, 0, 2, 0, 0, 0, 0, 3, 0, 3, 3, 0, 0, 0, 2, 0, 3, 0, 2, 0, 3, 0, 3, 0, 1, 0, 0, 0, 0, 1, 1, 3, 0, 3, 2, 3, 0, 0, 0, 0, 3, 3, 0, 0, 0, 3, 0, 0, 3, 1, 3, 3, 0, 0, 3, 3, 1, 1, 1, 3, 0, 1, 2, 0, 0, 1, 3, 3, 1, 2, 0, 0, 3, 0, 0, 0, 3, 0, 0, 3, 2, 3, 3, 0, 3, 2, 3, 0, 3, 0, 0, 1, 0, 3, 0, 0, 0, 3, 3, 0, 0, 0, 0, 0, 0, 1, 0, 3, 3, 0, 0, 0, 0, 0, 0, 0, 3, 0, 0, 0, 0, 0, 1, 0, 3, 3, 0, 3, 3, 3, 3, 0, 3, 3, 0, 3, 3, 0]\n",
      "y_pred = [0, 0, 1, 1, 1, 0, 0, 1, 1, 1, 3, 0, 3, 0, 1, 1, 3, 1, 0, 1, 1, 0, 2, 0, 2, 3, 2, 3, 1, 2, 3, 0, 0, 3, 3, 1, 1, 2, 1, 3, 3, 3, 0, 1, 1, 3, 2, 0, 3, 3, 1, 0, 1, 1, 0, 1, 0, 0, 1, 1, 1, 3, 3, 3, 0, 0, 1, 0, 3, 3, 3, 3, 0, 0, 3, 0, 3, 0, 3, 0, 3, 0, 3, 0, 3, 1, 0, 2, 0, 0, 3, 0, 3, 0, 1, 3, 1, 3, 1, 3, 3, 3, 0, 0, 3, 3, 1, 2, 0, 3, 1, 0, 3, 0, 0, 0, 0, 3, 0, 3, 3, 1, 0, 0, 0, 2, 0, 1, 1, 0, 0, 0, 1, 3, 3, 1, 0, 2, 1, 3, 2, 2, 3, 2, 3, 0, 2, 3, 3, 0, 0, 3, 2, 1, 1, 1, 3, 1, 0, 3, 3, 0, 3, 0, 3, 3, 0, 0, 3, 2, 1, 0, 2, 1, 1, 1, 3, 1, 1, 0, 0, 3, 3, 1, 3, 3, 2, 0, 0, 3, 3, 2, 2, 3, 3, 3, 0, 3, 2, 1, 0, 3, 0, 3, 1, 3, 1, 1, 1, 1, 3, 3, 3, 2, 3, 3, 0, 0, 3, 0, 3, 3, 0, 0, 2, 3, 3, 3, 3, 3, 1, 3, 3, 0, 3, 3, 1, 0, 0, 3, 3, 0, 0, 3, 3, 0, 0, 0, 0, 0, 0, 0, 0, 0, 2, 3, 0, 0, 0, 0, 0, 0, 3, 0, 3, 2, 2, 3, 1, 3, 0, 0, 0, 0, 0, 0, 3, 2, 2, 1, 0, 3, 0, 1, 3, 0, 0, 2, 0, 3, 3, 0, 3, 0, 2, 2, 2, 3, 1, 3, 0, 0, 3, 3, 0, 0, 3, 3, 0, 3, 0, 0, 1, 2, 3, 0, 0, 0, 3, 3, 2, 3, 0, 0, 2, 0, 3, 0, 3, 3, 3, 1, 2, 0, 0, 3, 2, 2, 3, 0, 0, 0, 0, 2, 0, 1, 0, 0, 3, 0, 3, 3, 0, 0, 0, 2, 0, 3, 0, 2, 0, 3, 0, 3, 0, 1, 0, 0, 0, 0, 1, 1, 3, 0, 3, 2, 3, 0, 0, 0, 0, 3, 3, 0, 0, 1, 3, 0, 0, 3, 1, 3, 3, 0, 0, 3, 3, 1, 1, 1, 3, 0, 1, 2, 0, 0, 1, 3, 3, 1, 2, 0, 0, 3, 0, 0, 0, 3, 0, 0, 3, 2, 3, 3, 0, 3, 2, 3, 0, 3, 0, 1, 3, 0, 3, 0, 0, 0, 3, 3, 0, 0, 0, 0, 0, 0, 0, 0, 3, 3, 0, 0, 0, 0, 0, 0, 0, 3, 0, 0, 0, 0, 0, 1, 0, 3, 3, 0, 3, 3, 1, 3, 2, 3, 1, 0, 3, 3, 0]\n"
     ]
    }
   ],
   "source": [
    "y_true = []\n",
    "y_pred = []\n",
    "\n",
    "with open(\"output.txt\", \"r\") as f:\n",
    "    next(f)  # Skip header\n",
    "    for line in f:\n",
    "        parts = line.strip().split()\n",
    "        if len(parts) == 2:\n",
    "            y_true.append(int(parts[0]))\n",
    "            y_pred.append(int(parts[1]))\n",
    "\n",
    "print(\"y_true =\", y_true)\n",
    "print(\"y_pred =\", y_pred)\n"
   ]
  },
  {
   "cell_type": "code",
   "execution_count": 37,
   "metadata": {},
   "outputs": [],
   "source": [
    "# 5.—— Filter out any failures (-1) if needed ——————————————————————————\n",
    "valid_idxs = [i for i, p in enumerate(y_pred) if p >= 0]\n",
    "y_true = [y_true[i] for i in valid_idxs]\n",
    "y_pred = [y_pred[i] for i in valid_idxs]"
   ]
  },
  {
   "cell_type": "code",
   "execution_count": 38,
   "metadata": {},
   "outputs": [
    {
     "name": "stdout",
     "output_type": "stream",
     "text": [
      "\n",
      "Overall Accuracy: 0.952\n",
      "\n",
      "Classification Report:\n",
      "                       precision    recall  f1-score   support\n",
      "\n",
      "                 True       0.99      0.94      0.97       203\n",
      "                False       0.92      0.91      0.92        79\n",
      "       Partially True       0.79      0.97      0.87        38\n",
      "Insufficient Evidence       0.96      0.98      0.97       159\n",
      "\n",
      "             accuracy                           0.95       479\n",
      "            macro avg       0.92      0.95      0.93       479\n",
      "         weighted avg       0.96      0.95      0.95       479\n",
      "\n",
      "Confusion Matrix:\n",
      " [[191   3   7   2]\n",
      " [  1  72   3   3]\n",
      " [  0   0  37   1]\n",
      " [  0   3   0 156]]\n"
     ]
    }
   ],
   "source": [
    "# 6.—— Compute Metrics —————————————————————————————————————————\n",
    "acc = accuracy_score(y_true, y_pred)\n",
    "print(f\"\\nOverall Accuracy: {acc:.3f}\\n\")\n",
    "\n",
    "print(\"Classification Report:\")\n",
    "print(classification_report(\n",
    "    y_true,\n",
    "    y_pred,\n",
    "    labels=list(range(len(label_values))),\n",
    "    target_names=label_values,\n",
    "    zero_division=0\n",
    "))\n",
    "\n",
    "cm = confusion_matrix(y_true, y_pred, labels=list(range(len(label_values))))\n",
    "print(\"Confusion Matrix:\\n\", cm)"
   ]
  },
  {
   "cell_type": "code",
   "execution_count": 39,
   "metadata": {},
   "outputs": [
    {
     "data": {
      "image/png": "[encoded data removed]",
      "text/plain": [
       "<Figure size 600x500 with 2 Axes>"
      ]
     },
     "metadata": {},
     "output_type": "display_data"
    }
   ],
   "source": [
    "# 7.—— Visualize Confusion Matrix ————————————————————————————————\n",
    "plt.figure(figsize=(6,5))\n",
    "sns.heatmap(cm, annot=True, fmt=\"d\", cmap=\"Blues\",\n",
    "            xticklabels=label_values,\n",
    "            yticklabels=label_values)\n",
    "plt.xlabel(\"Predicted\")\n",
    "plt.ylabel(\"Actual\")\n",
    "plt.title(\"Confusion Matrix\")\n",
    "plt.xticks(rotation=45, ha=\"right\")\n",
    "plt.tight_layout()\n",
    "plt.show()"
   ]
  },
  {
   "cell_type": "code",
   "execution_count": 40,
   "metadata": {},
   "outputs": [
    {
     "data": {
      "image/png": "[encoded data removed]",
      "text/plain": [
       "<Figure size 600x400 with 1 Axes>"
      ]
     },
     "metadata": {},
     "output_type": "display_data"
    }
   ],
   "source": [
    "# 8.—— Per-Class Accuracy Bar Chart ——————————————————————————————\n",
    "per_class_acc = cm.diagonal() / cm.sum(axis=1)\n",
    "plt.figure(figsize=(6,4))\n",
    "bars = plt.bar(label_values, per_class_acc, color=plt.cm.Paired.colors)\n",
    "plt.ylim(0,1)\n",
    "plt.ylabel(\"Accuracy\")\n",
    "plt.title(\"Per-Class Accuracy\")\n",
    "plt.xticks(rotation=45, ha=\"right\")\n",
    "for bar, acc_val in zip(bars, per_class_acc):\n",
    "    plt.text(bar.get_x() + bar.get_width()/2, acc_val+0.02,\n",
    "             f\"{acc_val:.2f}\", ha=\"center\")\n",
    "plt.tight_layout()\n",
    "plt.show()"
   ]
  },
  {
   "cell_type": "code",
   "execution_count": null,
   "metadata": {},
   "outputs": [],
   "source": []
  },
  {
   "cell_type": "code",
   "execution_count": null,
   "metadata": {},
   "outputs": [],
   "source": []
  }
 ],
 "metadata": {
  "kernelspec": {
   "display_name": "base",
   "language": "python",
   "name": "python3"
  },
  "language_info": {
   "codemirror_mode": {
    "name": "ipython",
    "version": 3
   },
   "file_extension": ".py",
   "mimetype": "text/x-python",
   "name": "python",
   "nbconvert_exporter": "python",
   "pygments_lexer": "ipython3",
   "version": "3.12.7"
  }
 },
 "nbformat": 4,
 "nbformat_minor": 2
}
